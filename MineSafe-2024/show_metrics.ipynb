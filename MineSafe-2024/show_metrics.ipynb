{
 "cells": [
  {
   "cell_type": "code",
   "execution_count": 2,
   "id": "7dce75fe-7790-4cdd-be09-e06e27537546",
   "metadata": {},
   "outputs": [],
   "source": [
    "import pandas as pd"
   ]
  },
  {
   "cell_type": "code",
   "execution_count": 3,
   "id": "dff0bb64-65ff-4337-b89d-c088cc300aef",
   "metadata": {},
   "outputs": [
    {
     "data": {
      "text/html": [
       "<div>\n",
       "<style scoped>\n",
       "    .dataframe tbody tr th:only-of-type {\n",
       "        vertical-align: middle;\n",
       "    }\n",
       "\n",
       "    .dataframe tbody tr th {\n",
       "        vertical-align: top;\n",
       "    }\n",
       "\n",
       "    .dataframe thead th {\n",
       "        text-align: right;\n",
       "    }\n",
       "</style>\n",
       "<table border=\"1\" class=\"dataframe\">\n",
       "  <thead>\n",
       "    <tr style=\"text-align: right;\">\n",
       "      <th></th>\n",
       "      <th>Unnamed: 0</th>\n",
       "      <th>dataset</th>\n",
       "      <th>k</th>\n",
       "      <th>sssr_time</th>\n",
       "      <th>middle_f1</th>\n",
       "      <th>tn</th>\n",
       "      <th>fp</th>\n",
       "      <th>fn</th>\n",
       "      <th>tp</th>\n",
       "    </tr>\n",
       "  </thead>\n",
       "  <tbody>\n",
       "    <tr>\n",
       "      <th>0</th>\n",
       "      <td>0</td>\n",
       "      <td>pedestrians</td>\n",
       "      <td>100</td>\n",
       "      <td>234.514182</td>\n",
       "      <td>0.000000</td>\n",
       "      <td>8639991</td>\n",
       "      <td>9</td>\n",
       "      <td>0</td>\n",
       "      <td>0</td>\n",
       "    </tr>\n",
       "    <tr>\n",
       "      <th>1</th>\n",
       "      <td>1</td>\n",
       "      <td>pedestrians</td>\n",
       "      <td>100</td>\n",
       "      <td>237.973133</td>\n",
       "      <td>0.000000</td>\n",
       "      <td>8640000</td>\n",
       "      <td>0</td>\n",
       "      <td>0</td>\n",
       "      <td>0</td>\n",
       "    </tr>\n",
       "    <tr>\n",
       "      <th>2</th>\n",
       "      <td>2</td>\n",
       "      <td>pedestrians</td>\n",
       "      <td>100</td>\n",
       "      <td>229.601672</td>\n",
       "      <td>0.000000</td>\n",
       "      <td>8640000</td>\n",
       "      <td>0</td>\n",
       "      <td>0</td>\n",
       "      <td>0</td>\n",
       "    </tr>\n",
       "    <tr>\n",
       "      <th>3</th>\n",
       "      <td>3</td>\n",
       "      <td>pedestrians</td>\n",
       "      <td>100</td>\n",
       "      <td>145.494936</td>\n",
       "      <td>0.613781</td>\n",
       "      <td>8515268</td>\n",
       "      <td>24763</td>\n",
       "      <td>48901</td>\n",
       "      <td>51068</td>\n",
       "    </tr>\n",
       "    <tr>\n",
       "      <th>4</th>\n",
       "      <td>4</td>\n",
       "      <td>pedestrians</td>\n",
       "      <td>100</td>\n",
       "      <td>146.355451</td>\n",
       "      <td>0.748597</td>\n",
       "      <td>8473357</td>\n",
       "      <td>30487</td>\n",
       "      <td>63421</td>\n",
       "      <td>72735</td>\n",
       "    </tr>\n",
       "    <tr>\n",
       "      <th>5</th>\n",
       "      <td>5</td>\n",
       "      <td>pedestrians</td>\n",
       "      <td>100</td>\n",
       "      <td>156.017469</td>\n",
       "      <td>0.709627</td>\n",
       "      <td>8504092</td>\n",
       "      <td>30946</td>\n",
       "      <td>31376</td>\n",
       "      <td>73586</td>\n",
       "    </tr>\n",
       "    <tr>\n",
       "      <th>6</th>\n",
       "      <td>6</td>\n",
       "      <td>pedestrians</td>\n",
       "      <td>100</td>\n",
       "      <td>139.726046</td>\n",
       "      <td>0.792922</td>\n",
       "      <td>8480198</td>\n",
       "      <td>42156</td>\n",
       "      <td>12168</td>\n",
       "      <td>105478</td>\n",
       "    </tr>\n",
       "    <tr>\n",
       "      <th>7</th>\n",
       "      <td>7</td>\n",
       "      <td>pedestrians</td>\n",
       "      <td>100</td>\n",
       "      <td>204.002947</td>\n",
       "      <td>0.000000</td>\n",
       "      <td>8637042</td>\n",
       "      <td>951</td>\n",
       "      <td>120</td>\n",
       "      <td>1887</td>\n",
       "    </tr>\n",
       "    <tr>\n",
       "      <th>8</th>\n",
       "      <td>8</td>\n",
       "      <td>pedestrians</td>\n",
       "      <td>100</td>\n",
       "      <td>160.666645</td>\n",
       "      <td>0.713273</td>\n",
       "      <td>8561361</td>\n",
       "      <td>14446</td>\n",
       "      <td>18982</td>\n",
       "      <td>45211</td>\n",
       "    </tr>\n",
       "    <tr>\n",
       "      <th>9</th>\n",
       "      <td>9</td>\n",
       "      <td>pedestrians</td>\n",
       "      <td>100</td>\n",
       "      <td>153.204778</td>\n",
       "      <td>0.753954</td>\n",
       "      <td>8516959</td>\n",
       "      <td>23818</td>\n",
       "      <td>22976</td>\n",
       "      <td>76247</td>\n",
       "    </tr>\n",
       "    <tr>\n",
       "      <th>10</th>\n",
       "      <td>10</td>\n",
       "      <td>pedestrians</td>\n",
       "      <td>99</td>\n",
       "      <td>154.744383</td>\n",
       "      <td>0.719626</td>\n",
       "      <td>8493793</td>\n",
       "      <td>13101</td>\n",
       "      <td>6682</td>\n",
       "      <td>40024</td>\n",
       "    </tr>\n",
       "  </tbody>\n",
       "</table>\n",
       "</div>"
      ],
      "text/plain": [
       "    Unnamed: 0      dataset    k   sssr_time  middle_f1       tn     fp  \\\n",
       "0            0  pedestrians  100  234.514182   0.000000  8639991      9   \n",
       "1            1  pedestrians  100  237.973133   0.000000  8640000      0   \n",
       "2            2  pedestrians  100  229.601672   0.000000  8640000      0   \n",
       "3            3  pedestrians  100  145.494936   0.613781  8515268  24763   \n",
       "4            4  pedestrians  100  146.355451   0.748597  8473357  30487   \n",
       "5            5  pedestrians  100  156.017469   0.709627  8504092  30946   \n",
       "6            6  pedestrians  100  139.726046   0.792922  8480198  42156   \n",
       "7            7  pedestrians  100  204.002947   0.000000  8637042    951   \n",
       "8            8  pedestrians  100  160.666645   0.713273  8561361  14446   \n",
       "9            9  pedestrians  100  153.204778   0.753954  8516959  23818   \n",
       "10          10  pedestrians   99  154.744383   0.719626  8493793  13101   \n",
       "\n",
       "       fn      tp  \n",
       "0       0       0  \n",
       "1       0       0  \n",
       "2       0       0  \n",
       "3   48901   51068  \n",
       "4   63421   72735  \n",
       "5   31376   73586  \n",
       "6   12168  105478  \n",
       "7     120    1887  \n",
       "8   18982   45211  \n",
       "9   22976   76247  \n",
       "10   6682   40024  "
      ]
     },
     "execution_count": 3,
     "metadata": {},
     "output_type": "execute_result"
    }
   ],
   "source": [
    "results_df = pd.read_csv(\"./results/sssr-pedestrians.csv\")\n",
    "results_df"
   ]
  },
  {
   "cell_type": "code",
   "execution_count": 4,
   "id": "73830e2a-68f2-45ae-bc1b-e45a94c9aae6",
   "metadata": {},
   "outputs": [],
   "source": [
    "total_fp = results_df.fp.sum()\n",
    "total_fn = results_df.fn.sum()\n",
    "total_tp = results_df.tp.sum()"
   ]
  },
  {
   "cell_type": "code",
   "execution_count": 5,
   "id": "b5b11172-b087-4aa4-bef5-109b31c00a10",
   "metadata": {},
   "outputs": [],
   "source": [
    "Precision = total_tp / (total_tp + total_fp)\n",
    "Recall = total_tp / (total_tp + total_fn)\n",
    "f1 = 2 * Precision * Recall / (Precision + Recall)"
   ]
  },
  {
   "cell_type": "code",
   "execution_count": 6,
   "id": "45583a76-fde5-43d6-a728-ac128a7f6ff7",
   "metadata": {},
   "outputs": [
    {
     "data": {
      "text/plain": [
       "(0.7076109350989356, 0.6949804877903354, 0.7207089670481193)"
      ]
     },
     "execution_count": 6,
     "metadata": {},
     "output_type": "execute_result"
    }
   ],
   "source": [
    "f1, Recall, Precision"
   ]
  },
  {
   "cell_type": "markdown",
   "id": "67b72729-a5a3-47ad-92a1-bc3e9965c34b",
   "metadata": {},
   "source": [
    "- time cost"
   ]
  },
  {
   "cell_type": "code",
   "execution_count": 7,
   "id": "db7e7c75-001e-4a61-b3ad-951e8f106e5b",
   "metadata": {},
   "outputs": [],
   "source": [
    "time = results_df.sssr_time.sum()\n",
    "n = results_df.k.sum()"
   ]
  },
  {
   "cell_type": "code",
   "execution_count": 8,
   "id": "80b88532-8266-48cc-8bef-b319d18bb672",
   "metadata": {},
   "outputs": [
    {
     "data": {
      "text/plain": [
       "1.7855337959077815"
      ]
     },
     "execution_count": 8,
     "metadata": {},
     "output_type": "execute_result"
    }
   ],
   "source": [
    "time / n"
   ]
  },
  {
   "cell_type": "code",
   "execution_count": null,
   "id": "f6438033-8b13-4792-90c9-f182c1ec98ff",
   "metadata": {},
   "outputs": [],
   "source": []
  }
 ],
 "metadata": {
  "kernelspec": {
   "display_name": "myconda",
   "language": "python",
   "name": "myconda"
  },
  "language_info": {
   "codemirror_mode": {
    "name": "ipython",
    "version": 3
   },
   "file_extension": ".py",
   "mimetype": "text/x-python",
   "name": "python",
   "nbconvert_exporter": "python",
   "pygments_lexer": "ipython3",
   "version": "3.9.12"
  }
 },
 "nbformat": 4,
 "nbformat_minor": 5
}
