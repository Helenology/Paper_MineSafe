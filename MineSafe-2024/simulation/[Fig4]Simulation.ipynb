{
 "cells": [
  {
   "cell_type": "markdown",
   "metadata": {},
   "source": [
    "- Please run `sh install.sh` in the terminal first."
   ]
  },
  {
   "cell_type": "code",
   "execution_count": 1,
   "metadata": {
    "tags": []
   },
   "outputs": [],
   "source": [
    "import matplotlib.pyplot as plt\n",
    "from PIL import Image\n",
    "import os\n",
    "import gc\n",
    "import time\n",
    "import numpy as np\n",
    "import pandas as pd\n",
    "import tensorflow as tf\n",
    "# tf.debugging.set_log_device_placement(True)\n",
    "\n",
    "%matplotlib inline\n",
    "from keras.preprocessing.image import array_to_img\n",
    "import copy\n",
    "import seaborn as sns\n",
    "import cv2 as cv\n",
    "import pickle\n",
    "import tensorflow_probability as tfp\n",
    "from tensorflow.keras.layers import AveragePooling2D\n",
    "import shutil\n",
    "import sys \n",
    "\n",
    "sys.path.append(\"../models/GPA\")\n",
    "sys.path.append(\"../\")\n",
    "from gpa import GPA\n",
    "from utils import *\n",
    "from simu_auxiliary import *"
   ]
  },
  {
   "cell_type": "code",
   "execution_count": 2,
   "metadata": {
    "tags": []
   },
   "outputs": [
    {
     "name": "stdout",
     "output_type": "stream",
     "text": [
      "[PhysicalDevice(name='/physical_device:GPU:0', device_type='GPU')]\n",
      "1 Physical GPUs, 1 Logical GPUs\n"
     ]
    },
    {
     "name": "stderr",
     "output_type": "stream",
     "text": [
      "2024-12-09 06:33:01.571218: I tensorflow/core/platform/cpu_feature_guard.cc:151] This TensorFlow binary is optimized with oneAPI Deep Neural Network Library (oneDNN) to use the following CPU instructions in performance-critical operations:  AVX2 AVX512F FMA\n",
      "To enable them in other operations, rebuild TensorFlow with the appropriate compiler flags.\n",
      "2024-12-09 06:33:04.184640: I tensorflow/core/common_runtime/gpu/gpu_device.cc:1525] Created device /job:localhost/replica:0/task:0/device:GPU:0 with 17003 MB memory:  -> device: 0, name: NVIDIA A30, pci bus id: 0000:9b:00.0, compute capability: 8.0\n"
     ]
    }
   ],
   "source": [
    "gpus = tf.config.experimental.list_physical_devices('GPU')\n",
    "print(gpus)\n",
    "for gpu in gpus:\n",
    "    tf.config.experimental.set_memory_growth(gpu, True)\n",
    "    logical_gpus = tf.config.experimental.list_logical_devices('GPU')\n",
    "    print(len(gpus), \"Physical GPUs,\", len(logical_gpus), \"Logical GPUs\")"
   ]
  },
  {
   "cell_type": "code",
   "execution_count": 3,
   "metadata": {
    "tags": []
   },
   "outputs": [],
   "source": [
    "def MSE(x, y):\n",
    "    \"\"\"Compute the Mean Square Error.\"\"\"\n",
    "    mse = tf.reduce_mean((x - y)**2)\n",
    "    return mse"
   ]
  },
  {
   "cell_type": "markdown",
   "metadata": {
    "tags": []
   },
   "source": [
    "## Hyper-parameters"
   ]
  },
  {
   "cell_type": "code",
   "execution_count": 4,
   "metadata": {
    "tags": []
   },
   "outputs": [],
   "source": [
    "T = 100                    # the number of replications\n",
    "N_list = [100, 500, 1000]  # the number of images\n",
    "p = 540                    # image height\n",
    "q = 960                    # image width\n",
    "M = p * q                  # the number of pixel locations\n",
    "G = 500                    # the number of grid points\n",
    "test_size = 100            # the number of test images\n",
    "truncate_width = 3         # filter size for kernel smoothing"
   ]
  },
  {
   "cell_type": "markdown",
   "metadata": {},
   "source": [
    "## Distribution"
   ]
  },
  {
   "cell_type": "code",
   "execution_count": 5,
   "metadata": {},
   "outputs": [
    {
     "name": "stderr",
     "output_type": "stream",
     "text": [
      "2024-12-09 06:33:06.494264: I tensorflow/stream_executor/cuda/cuda_dnn.cc:368] Loaded cuDNN version 8101\n"
     ]
    },
    {
     "name": "stdout",
     "output_type": "stream",
     "text": [
      "True density shape: (500, 540, 960)\n"
     ]
    }
   ],
   "source": [
    "# std & mean\n",
    "sigma = 0.2  # standard deviation\n",
    "mean = np.load('./mean-540.npy').reshape([1, p, q, 1])  # mean\n",
    "avg_pool_2d_mean = AveragePooling2D(pool_size=(5, 5), strides=1, padding=\"same\")\n",
    "mean = tf.reshape(avg_pool_2d_mean(mean), (1, p, q))\n",
    "\n",
    "# grid points\n",
    "tick_list = np.random.uniform(size=G)\n",
    "tick_tensor = tf.concat([tf.ones([1, p, q]) * tick for tick in tick_list], axis=0)\n",
    "\n",
    "# oracle dsitrbution\n",
    "f_true = compute_true_density(tick_list, mean, sigma)\n",
    "tfd = tfp.distributions\n",
    "dist = tfd.TruncatedNormal(loc=mean, scale=sigma, low=[0.], high=[1.])"
   ]
  },
  {
   "cell_type": "markdown",
   "metadata": {},
   "source": [
    "## Run Experiments"
   ]
  },
  {
   "cell_type": "code",
   "execution_count": 6,
   "metadata": {},
   "outputs": [],
   "source": [
    "experiment_stats = {\"N\": [],\n",
    "                    \"t\": [],\n",
    "                    \"CD_mse\": [],\n",
    "                    \"DS_mse\": [],\n",
    "                    \"GPA_CD_mse\": [],\n",
    "                    \"GPA_DS_mse\": [],\n",
    "                    \"DS_mse\": [],\n",
    "                    \"CD_time\": [],\n",
    "                    \"DS_time\": [],\n",
    "                    \"GPA_CD_time\": [],\n",
    "                    \"GPA_DS_time\": []}"
   ]
  },
  {
   "cell_type": "code",
   "execution_count": null,
   "metadata": {
    "scrolled": true
   },
   "outputs": [],
   "source": [
    "for N in N_list:\n",
    "    print(f\"============= N:{N} =============\")\n",
    "    alpha = np.log(p * q) / np.log(N)  # alpha\n",
    "    path = f'../../simulate_img_N={N}_GPU1'  # path to save N simulate image\n",
    "\n",
    "    # optimal bandwidth\n",
    "    bandwidth, bandwidth_star = compute_optimal_bandwidths(N, M, sigma)\n",
    "    location_weight_tensor = compute_location_weight(p, q, bandwidth, truncate_width)\n",
    "    location_weight_tensor = tf.reshape(location_weight_tensor, [truncate_width, truncate_width, 1, 1])\n",
    "    location_weight_tensor = tf.cast(location_weight_tensor, tf.float32)\n",
    "\n",
    "    for t in range(T): # repliacte\n",
    "        print(f\"============= The {t}th replication with N samlpes:{N} =============\")\n",
    "        seed = N + t\n",
    "        tf.random.set_seed(seed) # set random seed in one replication of N\n",
    "        np.random.seed(seed)\n",
    "        CD_mse = 0\n",
    "        DS_mse = 0\n",
    "        GPA_CD_mse = 0\n",
    "        GPA_DS_mse = 0\n",
    "        CD_time = 0\n",
    "        DS_time = 0\n",
    "        GPA_CD_time = 0\n",
    "        GPA_DS_time = 0\n",
    "        \n",
    "        # generate N simulation images\n",
    "        generate_simulate_data(path, N, mean, sigma)\n",
    "        \n",
    "        # pre-computed CD and DS matrix\n",
    "        CD_matrix = compute_CD_matrix(path, N, G, p, q, bandwidth, tick_tensor)\n",
    "        DS_matrix = compute_DS_matrix(CD_matrix, location_weight_tensor)\n",
    "        CD_matrix = tf.squeeze(CD_matrix)\n",
    "        DS_matrix = tf.squeeze(DS_matrix)\n",
    "        \n",
    "        # density comparison\n",
    "        for test_i in range(test_size): # 生成测试图片\n",
    "            print(f\"[TEST] image No.{test_i}\")\n",
    "            test_img = tf.ones([p, q]) * np.random.uniform()\n",
    "            oracle_test = tf.squeeze(dist.prob(test_img))\n",
    "            \n",
    "            # CD estimation\n",
    "            print(f\"[TEST] compute CD estimator\")\n",
    "            t1 = time.time()\n",
    "            CD_test = test_CD(p, q, test_img, bandwidth, path)\n",
    "            CD_test = tf.reshape(CD_test, (1, p, q))\n",
    "            t2 = time.time()\n",
    "            CD_time += (t2 - t1) / test_size\n",
    "            \n",
    "            # DS estimation\n",
    "            print(f\"[TEST] compute DS estimator\")\n",
    "            t3 = time.time()\n",
    "            DS_test = compute_DS_matrix(CD_test, location_weight_tensor)\n",
    "            t4 = time.time()\n",
    "            DS_time += (t4 - t3 + t2 - t1) / test_size\n",
    "            \n",
    "            # GPA-CD estimation\n",
    "            print(f\"[TEST] compute GPA-CD estimator\")\n",
    "            t1 = time.time()\n",
    "            Omega2_star = K_tf(tick_tensor - test_img, bandwidth_star)\n",
    "            Omega1_star = Omega2_star * CD_matrix\n",
    "            Omega1_star = tf.reduce_sum(Omega1_star, axis=0)\n",
    "            Omega2_star = tf.reduce_sum(Omega2_star, axis=0)\n",
    "            GPA_CD_test = Omega1_star / Omega2_star\n",
    "            t2 = time.time()\n",
    "            GPA_CD_time += (t2 - t1) / test_size\n",
    "            \n",
    "            # GPA-DS estimation\n",
    "            print(f\"[TEST] compute GPA-DS estimator\")\n",
    "            t1 = time.time()\n",
    "            Omega2_star = K_tf(tick_tensor - test_img, bandwidth_star)\n",
    "            Omega1_star = Omega2_star * DS_matrix\n",
    "            Omega1_star = tf.reduce_sum(Omega1_star, axis=0)\n",
    "            Omega2_star = tf.reduce_sum(Omega2_star, axis=0)\n",
    "            GPA_DS_test = Omega1_star / Omega2_star\n",
    "            t2 = time.time()\n",
    "            GPA_DS_time += (t2 - t1) / test_size\n",
    "\n",
    "            ###################### Compute MSE ####################\n",
    "            # 1. MSE of the CD estimator\n",
    "            CD_test = tf.squeeze(CD_test)\n",
    "            CD_mse += MSE(oracle_test, CD_test) / test_size\n",
    "            # 2. MSE of the DS estimator\n",
    "            DS_test = tf.squeeze(DS_test)\n",
    "            DS_mse += MSE(oracle_test, DS_test) / test_size\n",
    "            # 3. MSE of the GPA-CD estimator\n",
    "            GPA_CD_test = tf.squeeze(GPA_CD_test)\n",
    "            GPA_CD_mse += MSE(oracle_test, GPA_CD_test) / test_size\n",
    "            # 4. MSE of the GPA-DS estimator\n",
    "            GPA_DS_test = tf.squeeze(GPA_DS_test)\n",
    "            GPA_DS_mse += MSE(oracle_test, GPA_DS_test) / test_size\n",
    "            print(f\"Sample size N:{N}\")\n",
    "            print(f\"CD MSE: {CD_mse.numpy():.8f}\")\n",
    "            print(f\"DS MSE: {DS_mse.numpy():.8f}\")\n",
    "            print(f\"GPA_CD MSE: {GPA_CD_mse.numpy():.8f}\")\n",
    "            print(f\"GPA_DS MSE: {GPA_DS_mse.numpy():.8f}\")\n",
    "        \n",
    "        experiment_stats[\"N\"].append(N)\n",
    "        experiment_stats[\"t\"].append(t)\n",
    "        experiment_stats[\"CD_mse\"].append(CD_mse.numpy())\n",
    "        experiment_stats[\"DS_mse\"].append(DS_mse.numpy())\n",
    "        experiment_stats[\"GPA_CD_mse\"].append(GPA_CD_mse.numpy())\n",
    "        experiment_stats[\"GPA_DS_mse\"].append(GPA_DS_mse.numpy())\n",
    "        experiment_stats[\"CD_time\"].append(CD_time)\n",
    "        experiment_stats[\"DS_time\"].append(DS_time)\n",
    "        experiment_stats[\"GPA_CD_time\"].append(GPA_CD_time)\n",
    "        experiment_stats[\"GPA_DS_time\"].append(GPA_DS_time)\n",
    "        experiment_stats_csv = pd.DataFrame(experiment_stats)\n",
    "        experiment_stats_csv.to_csv(f'./simulation(N={N}).csv')"
   ]
  },
  {
   "cell_type": "markdown",
   "metadata": {},
   "source": [
    "## Experiment Results"
   ]
  },
  {
   "cell_type": "code",
   "execution_count": 8,
   "metadata": {},
   "outputs": [],
   "source": [
    "data1 = pd.read_csv(\"./simulation(N=100).csv\")\n",
    "data2 = pd.read_csv(\"./simulation(N=500).csv\")\n",
    "data3 = pd.read_csv(\"./simulation(N=1000).csv\")"
   ]
  },
  {
   "cell_type": "code",
   "execution_count": 9,
   "metadata": {},
   "outputs": [
    {
     "data": {
      "text/html": [
       "<div>\n",
       "<style scoped>\n",
       "    .dataframe tbody tr th:only-of-type {\n",
       "        vertical-align: middle;\n",
       "    }\n",
       "\n",
       "    .dataframe tbody tr th {\n",
       "        vertical-align: top;\n",
       "    }\n",
       "\n",
       "    .dataframe thead th {\n",
       "        text-align: right;\n",
       "    }\n",
       "</style>\n",
       "<table border=\"1\" class=\"dataframe\">\n",
       "  <thead>\n",
       "    <tr style=\"text-align: right;\">\n",
       "      <th></th>\n",
       "      <th>Unnamed: 0</th>\n",
       "      <th>N</th>\n",
       "      <th>t</th>\n",
       "      <th>CD_mse</th>\n",
       "      <th>DS_mse</th>\n",
       "      <th>GPA_CD_mse</th>\n",
       "      <th>GPA_DS_mse</th>\n",
       "      <th>CD_time</th>\n",
       "      <th>DS_time</th>\n",
       "      <th>GPA_CD_time</th>\n",
       "      <th>GPA_DS_time</th>\n",
       "    </tr>\n",
       "  </thead>\n",
       "  <tbody>\n",
       "    <tr>\n",
       "      <th>0</th>\n",
       "      <td>0</td>\n",
       "      <td>100</td>\n",
       "      <td>0</td>\n",
       "      <td>0.121442</td>\n",
       "      <td>0.017991</td>\n",
       "      <td>0.120664</td>\n",
       "      <td>0.017967</td>\n",
       "      <td>0.406773</td>\n",
       "      <td>0.408354</td>\n",
       "      <td>0.000917</td>\n",
       "      <td>0.000474</td>\n",
       "    </tr>\n",
       "    <tr>\n",
       "      <th>1</th>\n",
       "      <td>1</td>\n",
       "      <td>100</td>\n",
       "      <td>1</td>\n",
       "      <td>0.117676</td>\n",
       "      <td>0.016189</td>\n",
       "      <td>0.116900</td>\n",
       "      <td>0.016013</td>\n",
       "      <td>0.405915</td>\n",
       "      <td>0.407258</td>\n",
       "      <td>0.000520</td>\n",
       "      <td>0.000475</td>\n",
       "    </tr>\n",
       "    <tr>\n",
       "      <th>2</th>\n",
       "      <td>2</td>\n",
       "      <td>100</td>\n",
       "      <td>2</td>\n",
       "      <td>0.128435</td>\n",
       "      <td>0.017265</td>\n",
       "      <td>0.127516</td>\n",
       "      <td>0.017177</td>\n",
       "      <td>0.409783</td>\n",
       "      <td>0.411178</td>\n",
       "      <td>0.000521</td>\n",
       "      <td>0.000476</td>\n",
       "    </tr>\n",
       "    <tr>\n",
       "      <th>3</th>\n",
       "      <td>3</td>\n",
       "      <td>100</td>\n",
       "      <td>3</td>\n",
       "      <td>0.119510</td>\n",
       "      <td>0.016508</td>\n",
       "      <td>0.118746</td>\n",
       "      <td>0.016487</td>\n",
       "      <td>0.398344</td>\n",
       "      <td>0.399704</td>\n",
       "      <td>0.000517</td>\n",
       "      <td>0.000474</td>\n",
       "    </tr>\n",
       "    <tr>\n",
       "      <th>4</th>\n",
       "      <td>4</td>\n",
       "      <td>100</td>\n",
       "      <td>4</td>\n",
       "      <td>0.118949</td>\n",
       "      <td>0.017294</td>\n",
       "      <td>0.118441</td>\n",
       "      <td>0.017419</td>\n",
       "      <td>0.410040</td>\n",
       "      <td>0.411441</td>\n",
       "      <td>0.000528</td>\n",
       "      <td>0.000486</td>\n",
       "    </tr>\n",
       "  </tbody>\n",
       "</table>\n",
       "</div>"
      ],
      "text/plain": [
       "   Unnamed: 0    N  t    CD_mse    DS_mse  GPA_CD_mse  GPA_DS_mse   CD_time  \\\n",
       "0           0  100  0  0.121442  0.017991    0.120664    0.017967  0.406773   \n",
       "1           1  100  1  0.117676  0.016189    0.116900    0.016013  0.405915   \n",
       "2           2  100  2  0.128435  0.017265    0.127516    0.017177  0.409783   \n",
       "3           3  100  3  0.119510  0.016508    0.118746    0.016487  0.398344   \n",
       "4           4  100  4  0.118949  0.017294    0.118441    0.017419  0.410040   \n",
       "\n",
       "    DS_time  GPA_CD_time  GPA_DS_time  \n",
       "0  0.408354     0.000917     0.000474  \n",
       "1  0.407258     0.000520     0.000475  \n",
       "2  0.411178     0.000521     0.000476  \n",
       "3  0.399704     0.000517     0.000474  \n",
       "4  0.411441     0.000528     0.000486  "
      ]
     },
     "execution_count": 9,
     "metadata": {},
     "output_type": "execute_result"
    }
   ],
   "source": [
    "data1.head()"
   ]
  },
  {
   "cell_type": "code",
   "execution_count": 10,
   "metadata": {},
   "outputs": [
    {
     "data": {
      "text/plain": [
       "(0.000495985651016188, 0.00037917010784144505, 0.000377491402625987)"
      ]
     },
     "execution_count": 10,
     "metadata": {},
     "output_type": "execute_result"
    }
   ],
   "source": [
    "data1.GPA_DS_time.mean(), data2.GPA_DS_time.mean(), data3.GPA_DS_time.mean()"
   ]
  },
  {
   "cell_type": "code",
   "execution_count": 11,
   "metadata": {},
   "outputs": [
    {
     "data": {
      "text/plain": [
       "(0.4096721539735795, 0.9244988394737245, 1.8066494903802874)"
      ]
     },
     "execution_count": 11,
     "metadata": {},
     "output_type": "execute_result"
    }
   ],
   "source": [
    "data1.DS_time.mean(), data2.DS_time.mean(), data3.DS_time.mean()"
   ]
  },
  {
   "cell_type": "code",
   "execution_count": 12,
   "metadata": {},
   "outputs": [
    {
     "data": {
      "text/plain": [
       "(0.000545032715797376, 0.00041922466754908404, 0.00042484087944026096)"
      ]
     },
     "execution_count": 12,
     "metadata": {},
     "output_type": "execute_result"
    }
   ],
   "source": [
    "data1.GPA_CD_time.mean(), data2.GPA_CD_time.mean(), data3.GPA_CD_time.mean()"
   ]
  },
  {
   "cell_type": "code",
   "execution_count": 13,
   "metadata": {},
   "outputs": [
    {
     "data": {
      "text/plain": [
       "(0.40827391393184653, 0.9233673335790634, 1.80542599709034)"
      ]
     },
     "execution_count": 13,
     "metadata": {},
     "output_type": "execute_result"
    }
   ],
   "source": [
    "data1.CD_time.mean(), data2.CD_time.mean(), data3.CD_time.mean()"
   ]
  },
  {
   "cell_type": "code",
   "execution_count": null,
   "metadata": {},
   "outputs": [],
   "source": []
  }
 ],
 "metadata": {
  "kernelspec": {
   "display_name": "myconda",
   "language": "python",
   "name": "myconda"
  },
  "language_info": {
   "codemirror_mode": {
    "name": "ipython",
    "version": 3
   },
   "file_extension": ".py",
   "mimetype": "text/x-python",
   "name": "python",
   "nbconvert_exporter": "python",
   "pygments_lexer": "ipython3",
   "version": "3.9.12"
  }
 },
 "nbformat": 4,
 "nbformat_minor": 4
}
