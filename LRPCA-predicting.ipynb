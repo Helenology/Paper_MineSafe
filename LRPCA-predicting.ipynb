{
 "cells": [
  {
   "cell_type": "code",
   "execution_count": 97,
   "id": "9ea74ecd-6bba-414f-842c-a1dd5495b15d",
   "metadata": {},
   "outputs": [],
   "source": [
    "import numpy as np\n",
    "import scipy.io\n",
    "import glob\n",
    "from PIL import Image\n",
    "import time\n",
    "import matplotlib.pyplot as plt\n",
    "from sklearn.metrics import f1_score, recall_score, confusion_matrix\n",
    "import pandas as pd\n",
    "from utils import *\n"
   ]
  },
  {
   "cell_type": "code",
   "execution_count": 42,
   "id": "779c9f77-8ac8-4c6b-92d6-e1bbd59314f9",
   "metadata": {},
   "outputs": [],
   "source": [
    "dataset_name = \"pedestrians\"\n",
    "result_path = f\"./dataset/results/{dataset_name}\"\n",
    "img_path = f\"./dataset/baseline/{dataset_name}/\"\n",
    "\n",
    "# Ground Truth Files\n",
    "gt_files = glob.glob(img_path + \"groundtruth/*png\")\n",
    "gt_files.sort()\n",
    "\n",
    "# Raw Image Failes\n",
    "raw_files = glob.glob(img_path + \"input/*jpg\")\n",
    "raw_files.sort()"
   ]
  },
  {
   "cell_type": "code",
   "execution_count": 43,
   "id": "5e98cff7-c136-49cb-8eae-1326214d3883",
   "metadata": {},
   "outputs": [],
   "source": [
    "k = 100\n",
    "start_idx = 800"
   ]
  },
  {
   "cell_type": "code",
   "execution_count": 44,
   "id": "d65da1d0-e3c3-4947-b9ed-28fbf6c04c06",
   "metadata": {},
   "outputs": [],
   "source": [
    "# Example Raw Image\n",
    "raw_img = Image.open(raw_files[0])\n",
    "raw_img = np.array(raw_img).astype(np.int32) / 255.0\n",
    "p, q = raw_img.shape[0:2]\n",
    "\n",
    "raw_batch = np.zeros((k, p * q))\n",
    "gt_batch = np.zeros((k, p, q))\n",
    "# middle_name = raw_files[start_idx + k // 2]\n",
    "\n",
    "for img_idx in range(k):\n",
    "    # Example Raw Image\n",
    "    raw_img = Image.open(raw_files[start_idx + img_idx])\n",
    "    raw_img = np.array(raw_img) / 255.0  # with shape (p, q, 3)\n",
    "    raw_img = raw_img.mean(axis=-1)\n",
    "    raw_batch[img_idx] = raw_img.ravel()\n",
    "    \n",
    "    # Ground Truth Image\n",
    "    gt_img = Image.open(gt_files[start_idx + img_idx])\n",
    "    gt_img = np.array(gt_img)  # with shape (p, q)\n",
    "    gt_img *= (gt_img == 255)  # reserve the Moving class with value 255\n",
    "    gt_img = gt_img.astype(np.float64) / 255.0\n",
    "    gt_batch[img_idx] = gt_img"
   ]
  },
  {
   "cell_type": "code",
   "execution_count": 45,
   "id": "7b9e3e4e-ba3b-42f9-9ebf-5dc57581f821",
   "metadata": {},
   "outputs": [],
   "source": [
    "# np.save(\"./raw_batch.npy\", raw_batch)"
   ]
  },
  {
   "cell_type": "code",
   "execution_count": 47,
   "id": "64abd9b3-3756-4c55-a506-c3f67863aa31",
   "metadata": {},
   "outputs": [],
   "source": [
    "## load model\n",
    "# model_path = \"./models/LRPCA-main/synthetic_data_exp/trained_models/lrpcanet_alpha0.1.mat\";\n",
    "model_path = \"/mnt/MineSafe-2024/LRPCA.mat\";\n",
    "model = scipy.io.loadmat(model_path)\n",
    "\n",
    "ths = model['ths'].reshape(-1)\n",
    "step = model['step'].reshape(-1)\n",
    "\n",
    "r = 5\n",
    "n = k"
   ]
  },
  {
   "cell_type": "code",
   "execution_count": 49,
   "id": "b9c5a783-e411-4c70-a4a0-4520034206bd",
   "metadata": {},
   "outputs": [],
   "source": [
    "zeta = ths * (1000/n) * (r/5);              # thresholds (adaptive to n,r)\n",
    "eta  = step;                                # step sizes"
   ]
  },
  {
   "cell_type": "code",
   "execution_count": 50,
   "id": "0d40be9a-4fd0-4b45-bb29-d536d348b919",
   "metadata": {},
   "outputs": [],
   "source": [
    "# Soft Thresholding\n",
    "def Thre(M, tau):\n",
    "    return np.sign(M) * np.maximum((np.abs(M) - tau), np.zeros(M.shape))"
   ]
  },
  {
   "cell_type": "code",
   "execution_count": 86,
   "id": "a4e5c056-5550-42a6-ba26-ca17e629bbea",
   "metadata": {},
   "outputs": [],
   "source": [
    "def LearnedRPCA(Y, r, zeta, eta):\n",
    "    # preparation\n",
    "    T = zeta.shape[0]\n",
    "    \n",
    "    # Initialization\n",
    "    tStart = time.time()\n",
    "    U, S, V = np.linalg.svd(Y - Thre(Y, zeta[0]), full_matrices=False)\n",
    "    \n",
    "    U0 = U[:, 0:r]\n",
    "    Sigma0 = np.diag(S[:r])\n",
    "    V0 = V[0:r, :]\n",
    "    L = U0 @ np.sqrt(Sigma0)\n",
    "    R = np.transpose(V0) @ np.sqrt(Sigma0)\n",
    "    print(\"===============LRPCA logs=============\\n\")\n",
    "    for t in range(1, T):\n",
    "        t3 = time.time()\n",
    "        X = L @ np.transpose(R)\n",
    "        S = Thre(Y - X, zeta[t])\n",
    "        L_plus = L - eta[t] * (X + S - Y) @ R @ np.linalg.inv(np.transpose(R) @ R + 2.2204e-16 * np.diag(np.ones(r)))\n",
    "        R_plus = R - eta[t] * np.transpose(X + S - Y) @ L @ np.linalg.inv(np.transpose(L) @ L + 2.2204e-16 * np.diag(np.ones(r)))\n",
    "        L = L_plus\n",
    "        R = R_plus\n",
    "        t4 = time.time()\n",
    "#         dist_X = norm(X - X_star, 'fro')/norm(X_star, 'fro');\n",
    "        print(f\"k: {t}; Time: {t4-t3:.4f}\\n\");\n",
    "    final_X = L @ np.transpose(R)\n",
    "    return X"
   ]
  },
  {
   "cell_type": "code",
   "execution_count": 87,
   "id": "c50bc104-3f59-42d5-8652-22cf6d27250c",
   "metadata": {},
   "outputs": [],
   "source": [
    "lrpac_thres = -0.1"
   ]
  },
  {
   "cell_type": "code",
   "execution_count": 52,
   "id": "d596a456-f9af-4201-8efb-cc135d86dce7",
   "metadata": {
    "scrolled": true,
    "tags": []
   },
   "outputs": [
    {
     "name": "stdout",
     "output_type": "stream",
     "text": [
      "===============LRPCA logs=============\n",
      "\n",
      "k: 1; Time: 0.2114\n",
      "\n",
      "k: 2; Time: 0.2125\n",
      "\n",
      "k: 3; Time: 0.2128\n",
      "\n",
      "k: 4; Time: 0.2122\n",
      "\n"
     ]
    }
   ],
   "source": [
    "t1 = time.time()\n",
    "X = LearnedRPCA(raw_batch, r, zeta, eta)\n",
    "foreground = raw_batch - X\n",
    "mask = (foreground < lrpac_thres) * 1.0\n",
    "mask = mask.reshape(-1, p, q)\n",
    "t2 = time.time()"
   ]
  },
  {
   "cell_type": "code",
   "execution_count": 53,
   "id": "4af06eb1-07d6-476f-bc4d-a485b817bf15",
   "metadata": {},
   "outputs": [
    {
     "data": {
      "text/plain": [
       "0.017331364154815673"
      ]
     },
     "execution_count": 53,
     "metadata": {},
     "output_type": "execute_result"
    }
   ],
   "source": [
    "(t2 - t1) / 100"
   ]
  },
  {
   "cell_type": "code",
   "execution_count": null,
   "id": "ec339330-aae5-448b-a412-8d1505787b68",
   "metadata": {},
   "outputs": [],
   "source": []
  },
  {
   "cell_type": "code",
   "execution_count": 72,
   "id": "463818cd-fe14-4b57-bb98-4f0967c40221",
   "metadata": {},
   "outputs": [],
   "source": []
  },
  {
   "cell_type": "code",
   "execution_count": 105,
   "id": "ece7459f-da37-4388-8bf8-300d85129829",
   "metadata": {},
   "outputs": [],
   "source": [
    "idx = 0"
   ]
  },
  {
   "cell_type": "code",
   "execution_count": 106,
   "id": "f34eacc6-fc78-41c9-bca2-ffd88f43bbc2",
   "metadata": {},
   "outputs": [
    {
     "data": {
      "text/plain": [
       "<matplotlib.colorbar.Colorbar at 0x7fd4a1b5e520>"
      ]
     },
     "execution_count": 106,
     "metadata": {},
     "output_type": "execute_result"
    },
    {
     "data": {
      "image/png": "[encoded data removed]",
      "text/plain": [
       "<Figure size 432x288 with 2 Axes>"
      ]
     },
     "metadata": {
      "needs_background": "light"
     },
     "output_type": "display_data"
    }
   ],
   "source": [
    "plt.imshow(mask[idx])\n",
    "plt.colorbar()"
   ]
  },
  {
   "cell_type": "code",
   "execution_count": 107,
   "id": "e8c2a3e8-24d6-4418-a754-c9839c617cd6",
   "metadata": {},
   "outputs": [
    {
     "data": {
      "text/plain": [
       "<matplotlib.colorbar.Colorbar at 0x7fd4a1be1dc0>"
      ]
     },
     "execution_count": 107,
     "metadata": {},
     "output_type": "execute_result"
    },
    {
     "data": {
      "image/png": "[encoded data removed]",
      "text/plain": [
       "<Figure size 432x288 with 2 Axes>"
      ]
     },
     "metadata": {
      "needs_background": "light"
     },
     "output_type": "display_data"
    }
   ],
   "source": [
    "plt.imshow(raw_batch[idx].reshape((p, q)))\n",
    "plt.colorbar()"
   ]
  },
  {
   "cell_type": "code",
   "execution_count": 77,
   "id": "52deaae2-8c65-4386-a40c-9373a1825ca0",
   "metadata": {},
   "outputs": [
    {
     "name": "stdout",
     "output_type": "stream",
     "text": [
      "8561244 14563 27134 37059\n"
     ]
    }
   ],
   "source": [
    "y_predict = mask.ravel()\n",
    "y_true = gt_batch.ravel()\n",
    "\n",
    "tn, fp, fn, tp = confusion_matrix(y_true, y_predict).ravel()  # confusion matrix\n",
    "print(tn, fp, fn, tp)"
   ]
  },
  {
   "cell_type": "code",
   "execution_count": 78,
   "id": "01a702d1-1a0a-4b0e-b624-74c9c08deaff",
   "metadata": {},
   "outputs": [
    {
     "data": {
      "text/plain": [
       "(0.7178915966060981, 0.5773059367843846)"
      ]
     },
     "execution_count": 78,
     "metadata": {},
     "output_type": "execute_result"
    }
   ],
   "source": [
    "P = tp / (tp + fp)\n",
    "R = tp / (tp + fn)\n",
    "P, R"
   ]
  },
  {
   "cell_type": "code",
   "execution_count": 80,
   "id": "763a1969-5d71-47d0-b410-9724aba388f8",
   "metadata": {},
   "outputs": [
    {
     "name": "stdout",
     "output_type": "stream",
     "text": [
      "0.6399689159435306 0.5773059367843846\n"
     ]
    }
   ],
   "source": [
    "f1 = 2 * P * R / (P + R)                              # F1-score\n",
    "print(f1, R)"
   ]
  },
  {
   "cell_type": "markdown",
   "id": "2674058d-ce47-4009-8507-826f3dd933eb",
   "metadata": {},
   "source": [
    "# Evaluate the whole video"
   ]
  },
  {
   "cell_type": "code",
   "execution_count": 92,
   "id": "087e7721-1f6f-4f30-8a3d-b4c8f226de7f",
   "metadata": {},
   "outputs": [],
   "source": [
    "results_list = []"
   ]
  },
  {
   "cell_type": "code",
   "execution_count": 93,
   "id": "38b46a01-518a-4ff5-bb32-e3f50f1aa33b",
   "metadata": {},
   "outputs": [],
   "source": [
    "ww = 100  # window width\n",
    "lrpac_thres = -0.1\n",
    "\n",
    "start_idx = 0\n",
    "end_idx = start_idx + ww"
   ]
  },
  {
   "cell_type": "code",
   "execution_count": 94,
   "id": "08dbf7a0-db1f-42e6-b89e-3522f2515cda",
   "metadata": {
    "scrolled": true,
    "tags": []
   },
   "outputs": [
    {
     "name": "stdout",
     "output_type": "stream",
     "text": [
      "================================[Frame 0-100]================================\n",
      "===============LRPCA logs=============\n",
      "\n",
      "k: 1; Time: 0.2140\n",
      "\n",
      "k: 2; Time: 0.2137\n",
      "\n",
      "k: 3; Time: 0.2130\n",
      "\n",
      "k: 4; Time: 0.2128\n",
      "\n",
      "- fitting the LRPCA model time cost:  1.7483\n",
      "================================[Frame 100-200]================================\n",
      "===============LRPCA logs=============\n",
      "\n",
      "k: 1; Time: 0.2143\n",
      "\n",
      "k: 2; Time: 0.2132\n",
      "\n",
      "k: 3; Time: 0.2133\n",
      "\n",
      "k: 4; Time: 0.2163\n",
      "\n",
      "- fitting the LRPCA model time cost:  1.7712\n",
      "================================[Frame 200-300]================================\n",
      "===============LRPCA logs=============\n",
      "\n",
      "k: 1; Time: 0.2167\n",
      "\n",
      "k: 2; Time: 0.2169\n",
      "\n",
      "k: 3; Time: 0.2172\n",
      "\n",
      "k: 4; Time: 0.2163\n",
      "\n",
      "- fitting the LRPCA model time cost:  1.7844\n",
      "================================[Frame 300-400]================================\n",
      "===============LRPCA logs=============\n",
      "\n",
      "k: 1; Time: 0.2128\n",
      "\n",
      "k: 2; Time: 0.2128\n",
      "\n",
      "k: 3; Time: 0.2131\n",
      "\n",
      "k: 4; Time: 0.2132\n",
      "\n",
      "- fitting the LRPCA model time cost:  1.7817\n",
      "================================[Frame 400-500]================================\n",
      "===============LRPCA logs=============\n",
      "\n",
      "k: 1; Time: 0.2118\n",
      "\n",
      "k: 2; Time: 0.2120\n",
      "\n",
      "k: 3; Time: 0.2125\n",
      "\n",
      "k: 4; Time: 0.2117\n",
      "\n",
      "- fitting the LRPCA model time cost:  1.7705\n",
      "================================[Frame 500-600]================================\n",
      "===============LRPCA logs=============\n",
      "\n",
      "k: 1; Time: 0.2123\n",
      "\n",
      "k: 2; Time: 0.2131\n",
      "\n",
      "k: 3; Time: 0.2140\n",
      "\n",
      "k: 4; Time: 0.2138\n",
      "\n",
      "- fitting the LRPCA model time cost:  1.7786\n",
      "================================[Frame 600-700]================================\n",
      "===============LRPCA logs=============\n",
      "\n",
      "k: 1; Time: 0.2208\n",
      "\n",
      "k: 2; Time: 0.2250\n",
      "\n",
      "k: 3; Time: 0.2220\n",
      "\n",
      "k: 4; Time: 0.2180\n",
      "\n",
      "- fitting the LRPCA model time cost:  1.7722\n",
      "================================[Frame 700-800]================================\n",
      "===============LRPCA logs=============\n",
      "\n",
      "k: 1; Time: 0.2133\n",
      "\n",
      "k: 2; Time: 0.2137\n",
      "\n",
      "k: 3; Time: 0.2141\n",
      "\n",
      "k: 4; Time: 0.2139\n",
      "\n",
      "- fitting the LRPCA model time cost:  1.7802\n",
      "================================[Frame 800-900]================================\n",
      "===============LRPCA logs=============\n",
      "\n",
      "k: 1; Time: 0.2127\n",
      "\n",
      "k: 2; Time: 0.2138\n",
      "\n",
      "k: 3; Time: 0.2142\n",
      "\n",
      "k: 4; Time: 0.2138\n",
      "\n",
      "- fitting the LRPCA model time cost:  1.7266\n",
      "================================[Frame 900-1000]================================\n",
      "===============LRPCA logs=============\n",
      "\n",
      "k: 1; Time: 0.2128\n",
      "\n",
      "k: 2; Time: 0.2128\n",
      "\n",
      "k: 3; Time: 0.2135\n",
      "\n",
      "k: 4; Time: 0.2135\n",
      "\n",
      "- fitting the LRPCA model time cost:  1.7863\n",
      "================================[Frame 1000-1099]================================\n",
      "===============LRPCA logs=============\n",
      "\n",
      "k: 1; Time: 0.2078\n",
      "\n",
      "k: 2; Time: 0.2086\n",
      "\n",
      "k: 3; Time: 0.2085\n",
      "\n",
      "k: 4; Time: 0.2093\n",
      "\n",
      "- fitting the LRPCA model time cost:  1.7090\n"
     ]
    }
   ],
   "source": [
    "while (start_idx < len(raw_files)):\n",
    "    print(f\"================================[Frame {start_idx}-{end_idx}]================================\")\n",
    "    # read window\n",
    "    k = end_idx - start_idx  # this window's width, which may be smaller than ww in the last window\n",
    "    raw_batch = np.zeros((k, p * q))\n",
    "    gt_batch = np.zeros((k, p, q))\n",
    "    for img_idx in range(k):\n",
    "        # Raw Image Batch\n",
    "        raw_img = Image.open(raw_files[start_idx + img_idx])\n",
    "        raw_img = np.array(raw_img) / 255.0  # with shape (p, q, 3)\n",
    "        raw_img = raw_img.mean(axis=-1)      # with shape (p, q)\n",
    "        raw_batch[img_idx] = raw_img.ravel() # with shape (p * q)\n",
    "\n",
    "        # Ground Truth Image Batch\n",
    "        gt_img = Image.open(gt_files[start_idx + img_idx])\n",
    "        gt_img = np.array(gt_img)  # with shape (p, q)\n",
    "        gt_img *= (gt_img == 255)  # reserve the Moving class with value 255\n",
    "        gt_img = gt_img.astype(np.float64) / 255.0\n",
    "        gt_batch[img_idx] = gt_img\n",
    "    \n",
    "    ###################### LRPCA ######################\n",
    "    # 1. build the LRPCA model and fitting\n",
    "    t1 = time.time()\n",
    "    X = LearnedRPCA(raw_batch, r, zeta, eta)\n",
    "    # 3. thresholding\n",
    "    foreground = raw_batch - X\n",
    "    mask = (foreground < lrpac_thres) * 1.0\n",
    "    mask = mask.reshape(-1, p, q)\n",
    "    t2 = time.time()\n",
    "    lrpca_time = t2 - t1\n",
    "    print(f\"- fitting the LRPCA model time cost: {lrpca_time: .4f}\")\n",
    "    \n",
    "    # evaluate the metrics for this whole window\n",
    "    y_predict = mask.ravel()\n",
    "    y_true = gt_batch.ravel()\n",
    "    conf_mat = confusion_matrix(y_true, y_predict).ravel()  # confusion matrix\n",
    "    if len(conf_mat) == 1:\n",
    "        tn, fp, fn, tp = conf_mat[0], 0, 0, 0\n",
    "    else:\n",
    "        tn, fp, fn, tp = conf_mat\n",
    "    \n",
    "    # record the results\n",
    "    results_list.append([k, lrpca_time, tn, fp, fn, tp])\n",
    "    results_df = pd.DataFrame(results_list, columns=[\"k\", \"lrpca_time\", \"tn\", \"fp\", \"fn\", \"tp\"])\n",
    "    results_df.to_csv(f\"./results/lrpca-{dataset_name}.csv\")\n",
    "    \n",
    "    # update window index\n",
    "    start_idx = end_idx\n",
    "    end_idx = min(end_idx + ww, len(raw_files))"
   ]
  },
  {
   "cell_type": "markdown",
   "id": "62ba1073-7037-4d4c-bd21-5b368334a320",
   "metadata": {},
   "source": [
    "- F1 score"
   ]
  },
  {
   "cell_type": "code",
   "execution_count": 98,
   "id": "8bf0b681-9cf7-4424-8989-2acde6968bd9",
   "metadata": {},
   "outputs": [],
   "source": [
    "total_fp = results_df.fp.sum()\n",
    "total_fn = results_df.fn.sum()\n",
    "total_tp = results_df.tp.sum()"
   ]
  },
  {
   "cell_type": "code",
   "execution_count": 99,
   "id": "78824448-7c5d-44c9-8456-f33000a20ff3",
   "metadata": {},
   "outputs": [
    {
     "data": {
      "text/plain": [
       "(0.6727511239709907, 0.7246959881465935, 0.6277548227151822)"
      ]
     },
     "execution_count": 99,
     "metadata": {},
     "output_type": "execute_result"
    }
   ],
   "source": [
    "f1, Recall, Precision = compute_metrics(total_fp, total_fn, total_tp)\n",
    "f1, Recall, Precision"
   ]
  },
  {
   "cell_type": "markdown",
   "id": "be229f96-ff6c-4cba-8908-47f7b24d5a0b",
   "metadata": {},
   "source": [
    "- Average time:"
   ]
  },
  {
   "cell_type": "code",
   "execution_count": 101,
   "id": "1921e7c6-3eac-42dc-9cdd-5cf867ad15b8",
   "metadata": {},
   "outputs": [],
   "source": [
    "total_time = results_df.lrpca_time.sum()\n",
    "n = results_df.k.sum()"
   ]
  },
  {
   "cell_type": "code",
   "execution_count": 102,
   "id": "cbf5dff0-6f2e-4ea3-a063-645fbb73cfdd",
   "metadata": {},
   "outputs": [
    {
     "data": {
      "text/plain": [
       "0.017660495256488166"
      ]
     },
     "execution_count": 102,
     "metadata": {},
     "output_type": "execute_result"
    }
   ],
   "source": [
    "avg_time = total_time / n\n",
    "avg_time"
   ]
  },
  {
   "cell_type": "code",
   "execution_count": null,
   "id": "a1828efd-e5c0-4ea6-8e6d-3f18066f96bd",
   "metadata": {},
   "outputs": [],
   "source": []
  }
 ],
 "metadata": {
  "kernelspec": {
   "display_name": "myconda",
   "language": "python",
   "name": "myconda"
  },
  "language_info": {
   "codemirror_mode": {
    "name": "ipython",
    "version": 3
   },
   "file_extension": ".py",
   "mimetype": "text/x-python",
   "name": "python",
   "nbconvert_exporter": "python",
   "pygments_lexer": "ipython3",
   "version": "3.8.12"
  }
 },
 "nbformat": 4,
 "nbformat_minor": 5
}
